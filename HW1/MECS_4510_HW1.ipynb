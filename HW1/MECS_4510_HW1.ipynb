{
  "cells": [
    {
      "cell_type": "code",
      "execution_count": null,
      "metadata": {
        "id": "-chAN1OHNd4R"
      },
      "outputs": [],
      "source": [
        "import pandas as pd\n",
        "import matplotlib.pyplot as plt\n",
        "import random\n",
        "import numpy as np"
      ]
    },
    {
      "cell_type": "code",
      "execution_count": null,
      "metadata": {
        "id": "hMgV_uOERuib"
      },
      "outputs": [],
      "source": [
        "# Import data from \"tsp.text\"\n",
        "url_data = (\n",
        "    \"https://raw.githubusercontent.com/VinceZ714/MECS-4510-Evolutionary-Computation/main/tsp.txt\"\n",
        ")\n",
        "\n",
        "data = pd.read_csv(url_data)\n",
        "pointx = data.x\n",
        "pointy = data.y\n"
      ]
    },
    {
      "cell_type": "code",
      "source": [
        "def route_distance(path: list, pointlist: list):\n",
        "  distance = 0\n",
        "  for i in range(0, len(path) - 1):\n",
        "    frompoint = pointlist[path[i]]\n",
        "    topoint = pointlist[path[i+1]]\n",
        "    x0 = frompoint[0]\n",
        "    y0 = frompoint[1]\n",
        "    x1 = topoint[0]\n",
        "    y1 = topoint[1]\n",
        "    distance += (((x1-x0)**2)+((y1-y0)**2))**0.5\n",
        "  return distance"
      ],
      "metadata": {
        "id": "I-n_k_kTH-OU"
      },
      "execution_count": null,
      "outputs": []
    },
    {
      "cell_type": "code",
      "source": [
        "def adjacent_test(point1: list, point2: list):\n",
        "  dx = abs(point1[0] - point2[0])\n",
        "  dy = abs(point1[1] - point2[1])\n",
        "  if dx < 0.005 and dy < 0.005:\n",
        "    return 1\n",
        "  else:\n",
        "    return 0"
      ],
      "metadata": {
        "id": "8Xflw9bt3IU3"
      },
      "execution_count": null,
      "outputs": []
    },
    {
      "cell_type": "code",
      "source": [
        "def point_swap (path: list, p1:list, p2:list):\n",
        "  path[p1], path[p2] = path[p2], path[p1]\n",
        "  return path"
      ],
      "metadata": {
        "id": "Au7fn5r06DW0"
      },
      "execution_count": null,
      "outputs": []
    },
    {
      "cell_type": "code",
      "source": [
        "def pop_generate(pop_size: list, pointlist: list):\n",
        "  org_path = []\n",
        "  path = []\n",
        "  distance = []\n",
        "  for i in range(len(pointlist)):\n",
        "    org_path.append(i)\n",
        "  for i in range(pop_size):\n",
        "    temp_path = random.sample(org_path, len(pointlist))\n",
        "    path.append(temp_path)\n",
        "    temp_distance = route_distance(temp_path, pointlist)\n",
        "    distance.append(temp_distance)\n",
        "  population = list(zip(distance,path))\n",
        "  return population"
      ],
      "metadata": {
        "id": "fVxFXtPG57lC"
      },
      "execution_count": null,
      "outputs": []
    },
    {
      "cell_type": "code",
      "source": [
        "def selection(population: list, selectsize: int):\n",
        "  select_pop = []\n",
        "  population = sorted(population, key = lambda x: x[0], reverse = False)\n",
        "  for i in range(selectsize):\n",
        "    select_pop.append(population[i])\n",
        "  return select_pop"
      ],
      "metadata": {
        "id": "JBpPpMo358vF"
      },
      "execution_count": null,
      "outputs": []
    },
    {
      "cell_type": "code",
      "source": [
        "def breed(parent1: list, parent2: list):\n",
        "  child = []\n",
        "  cp1 = []\n",
        "  cp2 = []\n",
        "  cutpoint1 = random.randrange(len(parent1))\n",
        "  cutpoint2 = random.randrange(len(parent1))\n",
        "  genestart = min(cutpoint1, cutpoint2)\n",
        "  geneend = max(cutpoint1, cutpoint2)\n",
        "  for i in range(genestart, geneend):\n",
        "    cp1.append(parent1[i])\n",
        "  cp2 = [point for point in parent2 if point not in cp1]\n",
        "  child = cp1 + cp2\n",
        "  return child"
      ],
      "metadata": {
        "id": "XHClYFq159uY"
      },
      "execution_count": null,
      "outputs": []
    },
    {
      "cell_type": "code",
      "source": [
        "def pop_children_born(population: list, popsize: int):\n",
        "  path = []\n",
        "  distance = []\n",
        "  for i in range(len(population)):\n",
        "    path.append(population[i][1])\n",
        "    distance.append(population[i][0])\n",
        "  for i in range(len(population)):\n",
        "    parent1 = current_pop[i][1]\n",
        "    parent2 = current_pop[random.randrange(len(current_pop))][1]\n",
        "    child = breed(parent1, parent2)\n",
        "    child = mutate(child, pointlist)\n",
        "    distance.append(route_distance(child, pointlist))\n",
        "    path.append(child)\n",
        "  temp_pop = list(zip(distance,path))\n",
        "  return temp_pop"
      ],
      "metadata": {
        "id": "DhzlipqJ5-r2"
      },
      "execution_count": null,
      "outputs": []
    },
    {
      "cell_type": "code",
      "source": [
        "def mutate(child: list, pointlist: list):\n",
        "  point1 = random.randrange(len(child))\n",
        "  point2 = random.randrange(len(child))\n",
        "  a = adjacent_test(pointlist[child[point1]], pointlist[child[point2]])\n",
        "  if a == 1:\n",
        "    point2 = random.randrange(len(child))\n",
        "  child[point1], child[point2] = child[point2], child[point1]\n",
        "  return child"
      ],
      "metadata": {
        "id": "IjY0M-0f6Fx8"
      },
      "execution_count": null,
      "outputs": []
    },
    {
      "cell_type": "markdown",
      "source": [
        "Random Search Method"
      ],
      "metadata": {
        "id": "FgzSFeciHyT1"
      }
    },
    {
      "cell_type": "code",
      "source": [
        "# Variable set up\n",
        "pointlist = []\n",
        "org_path = [] \n",
        "evaluation = 300000\n",
        "count = 0\n",
        "fitness_curve_rs = []\n",
        "distance_curve_rs = []\n",
        "evaluation_num_rs =[]\n",
        "best_path_rs = None\n",
        "best_distance_rs = None\n",
        "for i in range(len(pointx)):\n",
        "  x = pointx[i]\n",
        "  y = pointy[i]\n",
        "  pointlist.append([x, y])\n",
        "for i in range(len(pointlist)):\n",
        "  org_path.append(i)\n",
        "for i in range(evaluation):\n",
        "  evaluation_num_rs.append(i)"
      ],
      "metadata": {
        "id": "yKQl0k35JJ_h"
      },
      "execution_count": null,
      "outputs": []
    },
    {
      "cell_type": "code",
      "execution_count": null,
      "metadata": {
        "id": "ownfn-lL4Tb2"
      },
      "outputs": [],
      "source": [
        "# Create random path and find the shortest distance\n",
        "for i in range(evaluation):\n",
        "  temp_path = random.sample(org_path, len(pointlist))\n",
        "  temp_distance = route_distance(temp_path, pointlist)\n",
        "  if best_path_rs == None:\n",
        "    best_path_rs = temp_path\n",
        "    best_distance_rs = temp_distance\n",
        "  else:\n",
        "    if temp_distance < best_distance_rs:\n",
        "      best_path_rs = temp_path\n",
        "      best_distance_rs = temp_distance\n",
        "  distance_curve_rs.append(best_distance_rs)\n",
        "  fitness_curve_rs.append(1/best_distance_rs)"
      ]
    },
    {
      "cell_type": "markdown",
      "source": [
        "Hill Climber Method"
      ],
      "metadata": {
        "id": "0DvIBbmdH3Ud"
      }
    },
    {
      "cell_type": "code",
      "source": [
        "# Variable set up\n",
        "pointlist = []\n",
        "org_path = [] \n",
        "evaluation = 300000\n",
        "evaluation_num_hc = []\n",
        "fitness_curve_hc = []\n",
        "distance_curve_hc = []\n",
        "best_path_hc = None\n",
        "best_distance_hc = None\n",
        "for i in range(len(pointx)):\n",
        "  x = pointx[i]\n",
        "  y = pointy[i]\n",
        "  pointlist.append([x, y])\n",
        "for i in range(len(pointlist)):\n",
        "  org_path.append(i)\n",
        "for i in range(evaluation):\n",
        "  evaluation_num_hc.append(i)"
      ],
      "metadata": {
        "id": "7aShq-dZJRA9"
      },
      "execution_count": null,
      "outputs": []
    },
    {
      "cell_type": "code",
      "source": [
        "# Create random path first\n",
        "# Change the adjacent points to find the shortest distance\n",
        "for i in range(0,evaluation):\n",
        "  if i == 0:\n",
        "    org_path = random.sample(org_path, len(pointlist))\n",
        "    temp_distance = route_distance(temp_path, pointlist)\n",
        "    best_path_hc = temp_path\n",
        "    best_distance_hc = temp_distance\n",
        "  else:\n",
        "    point1 = random.randrange(len(temp_path))\n",
        "    point2 = random.randrange(len(temp_path))\n",
        "    a = adjacent_test(pointlist[temp_path[point1]],pointlist[temp_path[point2]])\n",
        "    if a == 1:\n",
        "      point2 = random.randrange(len(temp_path))\n",
        "    temp_path[point1], temp_path[point2] = temp_path[point2], temp_path[point1]\n",
        "    temp_distance = route_distance(temp_path, pointlist)\n",
        "    if temp_distance < best_distance_hc:\n",
        "      best_path_hc = temp_path\n",
        "      best_distance_hc = temp_distance\n",
        "    else:\n",
        "      temp_path[point1], temp_path[point2] = temp_path[point2], temp_path[point1]\n",
        "  distance_curve_hc.append(best_distance_hc)\n",
        "  fitness_curve_hc.append(1/best_distance_hc)\n",
        "  print(i)\n",
        "  print(best_distance_hc)"
      ],
      "metadata": {
        "id": "Tzzmg2PjNmn9"
      },
      "execution_count": null,
      "outputs": []
    },
    {
      "cell_type": "markdown",
      "source": [
        "Generation Algorithm"
      ],
      "metadata": {
        "id": "MeUYk9kGH5YU"
      }
    },
    {
      "cell_type": "code",
      "source": [
        "# Variable set up\n",
        "pointlist = []\n",
        "org_path = [] \n",
        "evaluation = 300000\n",
        "fitness_curve_ga = []\n",
        "distance_curve_ga = []\n",
        "evaluation_num_ga =[]\n",
        "best_path_ga = None\n",
        "best_distance_ga = None\n",
        "popsize = 20\n",
        "selectsize = int(popsize/2)\n",
        "for i in range(len(pointx)):\n",
        "  x = pointx[i]\n",
        "  y = pointy[i]\n",
        "  pointlist.append([x, y])\n",
        "for i in range(len(pointlist)):\n",
        "  org_path.append(i)\n",
        "for i in range(evaluation):\n",
        "  evaluation_num_ga.append(i)"
      ],
      "metadata": {
        "id": "dDgEKBX26JUL"
      },
      "execution_count": null,
      "outputs": []
    },
    {
      "cell_type": "code",
      "source": [
        "for i in range(evaluation):\n",
        "  if i == 0: \n",
        "    initial_pop = pop_generate(popsize, pointlist)\n",
        "    select_pop = selection(initial_pop, selectsize)\n",
        "    best_path_ga = select_pop[0][1]\n",
        "    best_distance_ga = select_pop[0][0]\n",
        "    current_pop = select_pop\n",
        "  else:\n",
        "    current_pop = pop_children_born(current_pop, popsize)\n",
        "    select_pop = selection(current_pop, selectsize)\n",
        "    if select_pop[0][0] < best_distance_ga:\n",
        "      best_path_ga = select_pop[0][1]\n",
        "      best_distance_ga = select_pop[0][0]\n",
        "      print(i)\n",
        "      print(best_distance_ga)\n",
        "    current_pop = select_pop\n",
        "  distance_curve_ga.append(best_distance_ga)\n",
        "  fitness_curve_ga.append(1/best_distance_ga)"
      ],
      "metadata": {
        "id": "0_eTTIOK6MAP"
      },
      "execution_count": null,
      "outputs": []
    },
    {
      "cell_type": "markdown",
      "source": [
        "Plot"
      ],
      "metadata": {
        "id": "30zo2l9yKz7T"
      }
    },
    {
      "cell_type": "code",
      "source": [
        "url_rss = (\n",
        "    \"/content/sample_data/Error_rs Short.csv\"\n",
        ")\n",
        "url_hcs = (\n",
        "    \"/content/sample_data/Error_hc Short.csv\"\n",
        ")\n",
        "url_gas = (\n",
        "    \"/content/sample_data/Error_ga Short.csv\"\n",
        ")\n",
        "url_rsl = (\n",
        "    \"/content/sample_data/Error_rs Long.csv\"\n",
        ")\n",
        "url_hcl = (\n",
        "    \"/content/sample_data/Error_hc Long.csv\"\n",
        ")\n",
        "url_gal = (\n",
        "    \"/content/sample_data/Error_ga Long.csv\"\n",
        ")\n",
        "url_harshs = (\n",
        "    \"/content/sample_data/Error_ga_harsh Short.csv\"\n",
        ")\n",
        "url_harshl = (\n",
        "    \"/content/sample_data/Error_ga_harsh Long.csv\"\n",
        ")\n",
        "\n",
        "rss = pd.read_csv(url_rss)\n",
        "hcs = pd.read_csv(url_hcs)\n",
        "gas = pd.read_csv(url_gas)\n",
        "rsl = pd.read_csv(url_rsl)\n",
        "hcl = pd.read_csv(url_hcl)\n",
        "gal = pd.read_csv(url_gal)\n",
        "harshs = pd.read_csv(url_harshs)\n",
        "harshl = pd.read_csv(url_harshl)\n",
        "\n",
        "def plot_cal(pandalist: pd.core.frame.DataFrame):\n",
        "  average = []\n",
        "  for i in range(len(pandalist)):\n",
        "    average.append(pandalist.loc[i].mean())\n",
        "  error = np.std(average)/np.sqrt(len(pandalist.loc[0]))\n",
        "  return average, error\n",
        "\n",
        "average_distance_rss, error_distance_rss = plot_cal(rss) \n",
        "average_distance_hcs, error_distance_hcs = plot_cal(hcs) \n",
        "average_distance_gas, error_distance_gas = plot_cal(gas)\n",
        "\n",
        "average_fitness_rss, error_fitness_rss = plot_cal(1/rss) \n",
        "average_fitness_hcs, error_fitness_hcs = plot_cal(1/hcs)\n",
        "average_fitness_gas, error_fitness_gas = plot_cal(1/gas)\n",
        "\n",
        "average_distance_rsl, error_distance_rsl = plot_cal(rsl) \n",
        "average_distance_hcl, error_distance_hcl = plot_cal(hcl) \n",
        "average_distance_gal, error_distance_gal = plot_cal(gal)\n",
        "\n",
        "average_fitness_rsl, error_fitness_rsl = plot_cal(1/rsl) \n",
        "average_fitness_hcl, error_fitness_hcl = plot_cal(1/hcl)\n",
        "average_fitness_gal, error_fitness_gal = plot_cal(1/gal)\n",
        "\n",
        "average_distance_harshs, error_distance_harshs = plot_cal(harshs)\n",
        "\n",
        "average_fitness_harshs, error_fitness_harshs = plot_cal(1/harshs)\n",
        "\n",
        "average_distance_harshl, error_distance_harshl = plot_cal(harshl)\n",
        "\n",
        "average_fitness_harshl, error_fitness_harshl = plot_cal(1/harshl)"
      ],
      "metadata": {
        "id": "hlq2qSMRANSQ"
      },
      "execution_count": null,
      "outputs": []
    },
    {
      "cell_type": "code",
      "source": [
        "evaluation_num = []\n",
        "for i in range(evaluation):\n",
        "  evaluation_num.append(i)"
      ],
      "metadata": {
        "id": "Qo7eQ05lxcek"
      },
      "execution_count": null,
      "outputs": []
    },
    {
      "cell_type": "code",
      "execution_count": null,
      "metadata": {
        "id": "LS9KU1ZcSXMb"
      },
      "outputs": [],
      "source": [
        "# Shortest Path\n",
        "plt.figure(1)\n",
        "\n",
        "plt.errorbar(evaluation_num, average_distance_rss, yerr = error_distance_rss, \n",
        "             errorevery = 50000, capsize = 3,\n",
        "             label='Random Search')\n",
        "\n",
        "\n",
        "plt.errorbar(evaluation_num, average_distance_hcs, yerr = error_distance_hcs, \n",
        "             errorevery = 50000, capsize = 3,\n",
        "             label = 'Hill Climber')\n",
        "\n",
        "plt.errorbar(evaluation_num, average_distance_gas, \n",
        "             yerr = error_distance_gas, \n",
        "             errorevery = 50000, capsize = 3,\n",
        "             label = 'Generation Algorithm')\n",
        "\n",
        "plt.errorbar(evaluation_num, average_distance_harshs, \n",
        "             yerr = error_distance_harshs, \n",
        "             errorevery = 50000, capsize = 3,\n",
        "             label = 'GA Harsh Selection')\n",
        "\n",
        "plt.xlim(0,evaluation)\n",
        "plt.ylabel('Path Distance')\n",
        "plt.xlabel('Evolution')\n",
        "plt.title('Distance (Shortest Path)')\n",
        "plt.legend()\n",
        "\n",
        "\n",
        "plt.figure(2)\n",
        "\n",
        "plt.errorbar(evaluation_num, average_fitness_rss, yerr = error_fitness_rss,            \n",
        "             errorevery = 50000, capsize = 3,\n",
        "             label='Random Search')\n",
        "\n",
        "plt.errorbar(evaluation_num, average_fitness_hcs, yerr = error_fitness_hcs,\n",
        "             errorevery = 50000, capsize = 3,\n",
        "             label = 'Hill Climber')\n",
        "\n",
        "plt.errorbar(evaluation_num, average_fitness_gas, \n",
        "             yerr = error_fitness_gas, \n",
        "             errorevery = 50000, capsize = 3,\n",
        "             label = 'Generation Algorithm')\n",
        "\n",
        "plt.errorbar(evaluation_num, average_fitness_harshs, \n",
        "             yerr = error_fitness_harshs, \n",
        "             errorevery = 50000, capsize = 3,\n",
        "             label = 'GA Harsh Selection')\n",
        "\n",
        "plt.xlim(0,evaluation)\n",
        "plt.ylabel('Fitness')\n",
        "plt.xlabel('Evolution')\n",
        "plt.title('Learning Curve(Shortest Path)')\n",
        "plt.legend()\n"
      ]
    },
    {
      "cell_type": "code",
      "source": [
        "# Longest Path\n",
        "plt.figure(3)\n",
        "\n",
        "plt.errorbar(evaluation_num, average_distance_rsl, yerr = error_distance_rsl, \n",
        "             errorevery = 50000, capsize = 3,\n",
        "             label='Random Search')\n",
        "\n",
        "\n",
        "plt.errorbar(evaluation_num, average_distance_hcl, yerr = error_distance_hcl, \n",
        "             errorevery = 50000, capsize = 3,\n",
        "             label = 'Hill Climber')\n",
        "\n",
        "plt.errorbar(evaluation_num, average_distance_gal, \n",
        "             yerr = error_distance_gal, \n",
        "             errorevery = 50000, capsize = 3,\n",
        "             label = 'Generation Algorithm')\n",
        "\n",
        "plt.errorbar(evaluation_num, average_distance_harshl, \n",
        "             yerr = error_distance_harshl, \n",
        "             errorevery = 50000, capsize = 3,\n",
        "             label = 'GA Harsh Selection')\n",
        "\n",
        "plt.xlim(0,evaluation)\n",
        "plt.ylabel('Path Distance')\n",
        "plt.xlabel('Evolution')\n",
        "plt.title('Distance (Longest Path)')\n",
        "plt.legend()\n",
        "\n",
        "\n",
        "plt.figure(4)\n",
        "\n",
        "plt.errorbar(evaluation_num, average_fitness_rsl, yerr = error_fitness_rsl,            \n",
        "             errorevery = 50000, capsize = 3,\n",
        "             label='Random Search')\n",
        "\n",
        "plt.errorbar(evaluation_num, average_fitness_hcl, yerr = error_fitness_hcl,\n",
        "             errorevery = 50000, capsize = 3,\n",
        "             label = 'Hill Climber')\n",
        "\n",
        "plt.errorbar(evaluation_num, average_fitness_gal, \n",
        "             yerr = error_fitness_gal, \n",
        "             errorevery = 50000, capsize = 3,\n",
        "             label = 'Generation Algorithm')\n",
        "\n",
        "plt.errorbar(evaluation_num, average_fitness_harshl, \n",
        "             yerr = error_fitness_harshl, \n",
        "             errorevery = 50000, capsize = 3,\n",
        "             label = 'GA Harsh Selection')\n",
        "\n",
        "plt.xlim(0,evaluation)\n",
        "plt.ylabel('Fitness')\n",
        "plt.xlabel('Evolution')\n",
        "plt.title('Learning Curve (Longest Path)')\n",
        "plt.legend()"
      ],
      "metadata": {
        "id": "A4H5UQhQw9r8"
      },
      "execution_count": null,
      "outputs": []
    },
    {
      "cell_type": "code",
      "source": [
        "plt.figure(5)\n",
        "plt_pathx_ga = []\n",
        "plt_pathy_ga = []\n",
        "for i in range(0, len(pointlist) - 1):\n",
        "  plt_pathx_ga.append(data.x[best_path_ga[i]])\n",
        "  plt_pathy_ga.append(data.y[best_path_ga[i]])\n",
        "plt.plot(plt_pathx_ga, plt_pathy_ga)\n",
        "plt.ylabel('y')\n",
        "plt.xlabel('x')\n",
        "plt.title('Shortest Path')"
      ],
      "metadata": {
        "id": "fNVeGgVXU3xv"
      },
      "execution_count": null,
      "outputs": []
    }
  ],
  "metadata": {
    "colab": {
      "provenance": [],
      "collapsed_sections": []
    },
    "kernelspec": {
      "display_name": "Python 3",
      "name": "python3"
    },
    "language_info": {
      "name": "python"
    }
  },
  "nbformat": 4,
  "nbformat_minor": 0
}